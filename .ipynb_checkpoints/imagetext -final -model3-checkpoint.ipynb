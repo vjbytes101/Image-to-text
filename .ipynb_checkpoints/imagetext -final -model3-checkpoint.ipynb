{
 "cells": [
  {
   "cell_type": "code",
   "execution_count": 1,
   "metadata": {
    "collapsed": true
   },
   "outputs": [],
   "source": [
    "import numpy as np\n",
    "import pandas as pd\n",
    "from matplotlib import pyplot as plt\n",
    "from PIL import Image, ImageEnhance, ImageFilter\n",
    "import cv2\n",
    "import os  \n",
    "import pytesseract\n",
    "import scipy\n",
    "from scipy import ndimage"
   ]
  },
  {
   "cell_type": "code",
   "execution_count": 2,
   "metadata": {},
   "outputs": [],
   "source": [
    "def rgb2gray(rgb):\n",
    "    r, g, b = rgb[:,:,0], rgb[:,:,1], rgb[:,:,2]\n",
    "    gray = 0.3 * r + 0.59 * g + 0.11 * b\n",
    "    return gray\n",
    "\n",
    "lowValY = 200\n",
    "#img1.max()"
   ]
  },
  {
   "cell_type": "code",
   "execution_count": 26,
   "metadata": {},
   "outputs": [],
   "source": [
    "img_path='C:/Users/Vijay/Isaac/image/'\n",
    "com_file = os.listdir(img_path)\n",
    "left_top = {}\n",
    "left_bottom = {}\n",
    "right_bottom = {}\n",
    "right_top = {}\n",
    "\n",
    "for fl in com_file:\n",
    "    path_img = os.path.join(img_path,fl)\n",
    "    img_f = os.listdir(path_img)\n",
    "    count = 1\n",
    "    for f_new in img_f:\n",
    "        path = os.path.join(path_img,f_new)\n",
    "        img1 = plt.imread(path)\n",
    "        x_s =img1.shape[1] \n",
    "        y_s=img1.shape[0]\n",
    "        img= rgb2gray(img1)\n",
    "        w, h = (int)(x_s/5), (int)(y_s/9);\n",
    "        l_t = img[:h,:w]\n",
    "        l_t = np.asarray(l_t)\n",
    "        low_values_flags = l_t < lowValY\n",
    "        l_t[low_values_flags] = 0 \n",
    "        left_top[fl+ '_' + str(count)] = l_t\n",
    "        w, h = (int)(x_s/5), (int)(y_s/9);\n",
    "        l_b = img[y_s-h:,:w]\n",
    "        l_b = np.asarray(l_b)\n",
    "        low_values_flags = l_b < lowValY  # Where values are low\n",
    "        l_b[low_values_flags] = 0 \n",
    "        left_bottom[fl+ '_' + str(count)] = l_b\n",
    "        w_r, h_r = (int)(x_s/5), (int)(y_s/9);\n",
    "        r_b = img[y_s-(h_r-5):,x_s-(w_r-19):]\n",
    "        r_b = np.asarray(r_b)\n",
    "        low_values_flags = r_b < lowValY  # Where values are low\n",
    "        r_b[low_values_flags] = 0 \n",
    "        right_bottom[fl+ '_' + str(count)] = r_b\n",
    "        w_r, h_r = (int)(x_s/5), (int)(y_s/9);\n",
    "        r_t = img[:h_r,x_s-w_r:]\n",
    "        r_t = np.asarray(r_t)\n",
    "        low_values_flags = r_t < lowValY  # Where values are low\n",
    "        r_t[low_values_flags] = 0 \n",
    "        kernel = np.ones((2,2),np.uint8)\n",
    "        r_t = cv2.dilate(r_t,kernel,iterations = 1)\n",
    "        right_top[fl+ '_' + str(count)] = r_t\n",
    "        count = count +1\n",
    "        \n"
   ]
  },
  {
   "cell_type": "code",
   "execution_count": 27,
   "metadata": {
    "collapsed": true
   },
   "outputs": [],
   "source": [
    "def temp_val(area_meantemp):\n",
    "    scipy.misc.imsave('temp2.jpg', area_meantemp)\n",
    "    text = pytesseract.image_to_string(Image.open('temp2.jpg'))\n",
    "    return text"
   ]
  },
  {
   "cell_type": "code",
   "execution_count": 28,
   "metadata": {
    "collapsed": true
   },
   "outputs": [],
   "source": [
    "mean_temp_val = []\n",
    "high_temp_val = []\n",
    "low_temp_val = []\n",
    "df = pd.DataFrame(columns=['Person','Mean_Temp','High_Temp','Low_Temp'])\n",
    "df = df.fillna(0)"
   ]
  },
  {
   "cell_type": "code",
   "execution_count": 29,
   "metadata": {},
   "outputs": [],
   "source": [
    "for key in left_top:\n",
    "    #print(temp_val(left_top[key]))\n",
    "    df = df.append({'Person':key,'Mean_Temp': temp_val(left_top[key]),'High_Temp': temp_val(right_top[key]),'Low_Temp': temp_val(right_bottom[key])}, ignore_index=True)"
   ]
  },
  {
   "cell_type": "code",
   "execution_count": 30,
   "metadata": {},
   "outputs": [
    {
     "data": {
      "text/html": [
       "<div>\n",
       "<style>\n",
       "    .dataframe thead tr:only-child th {\n",
       "        text-align: right;\n",
       "    }\n",
       "\n",
       "    .dataframe thead th {\n",
       "        text-align: left;\n",
       "    }\n",
       "\n",
       "    .dataframe tbody tr th {\n",
       "        vertical-align: top;\n",
       "    }\n",
       "</style>\n",
       "<table border=\"1\" class=\"dataframe\">\n",
       "  <thead>\n",
       "    <tr style=\"text-align: right;\">\n",
       "      <th></th>\n",
       "      <th>Person</th>\n",
       "      <th>Mean_Temp</th>\n",
       "      <th>High_Temp</th>\n",
       "      <th>Low_Temp</th>\n",
       "    </tr>\n",
       "  </thead>\n",
       "  <tbody>\n",
       "    <tr>\n",
       "      <th>0</th>\n",
       "      <td>img1_1</td>\n",
       "      <td>°F</td>\n",
       "      <td>80.7</td>\n",
       "      <td>73.4</td>\n",
       "    </tr>\n",
       "    <tr>\n",
       "      <th>1</th>\n",
       "      <td>img2_1</td>\n",
       "      <td>°F</td>\n",
       "      <td>80.7</td>\n",
       "      <td>73.4</td>\n",
       "    </tr>\n",
       "    <tr>\n",
       "      <th>2</th>\n",
       "      <td>img2_2</td>\n",
       "      <td>35.0“:</td>\n",
       "      <td>35.5</td>\n",
       "      <td>23.4</td>\n",
       "    </tr>\n",
       "    <tr>\n",
       "      <th>3</th>\n",
       "      <td>img2_3</td>\n",
       "      <td>“F</td>\n",
       "      <td>90.2</td>\n",
       "      <td>73.6</td>\n",
       "    </tr>\n",
       "  </tbody>\n",
       "</table>\n",
       "</div>"
      ],
      "text/plain": [
       "   Person Mean_Temp High_Temp Low_Temp\n",
       "0  img1_1        °F      80.7     73.4\n",
       "1  img2_1        °F      80.7     73.4\n",
       "2  img2_2    35.0“:      35.5     23.4\n",
       "3  img2_3        “F      90.2     73.6"
      ]
     },
     "execution_count": 30,
     "metadata": {},
     "output_type": "execute_result"
    }
   ],
   "source": [
    "df"
   ]
  },
  {
   "cell_type": "code",
   "execution_count": 31,
   "metadata": {
    "collapsed": true
   },
   "outputs": [],
   "source": [
    "df.to_csv('Temp.csv', sep=',', encoding='utf-8',index=False)"
   ]
  },
  {
   "cell_type": "code",
   "execution_count": 32,
   "metadata": {},
   "outputs": [
    {
     "data": {
      "text/plain": [
       "Person       object\n",
       "Mean_Temp    object\n",
       "High_Temp    object\n",
       "Low_Temp     object\n",
       "dtype: object"
      ]
     },
     "execution_count": 32,
     "metadata": {},
     "output_type": "execute_result"
    }
   ],
   "source": [
    "df.dtypes"
   ]
  },
  {
   "cell_type": "code",
   "execution_count": null,
   "metadata": {
    "collapsed": true
   },
   "outputs": [],
   "source": []
  },
  {
   "cell_type": "code",
   "execution_count": null,
   "metadata": {
    "collapsed": true
   },
   "outputs": [],
   "source": []
  }
 ],
 "metadata": {
  "kernelspec": {
   "display_name": "Python 3",
   "language": "python",
   "name": "python3"
  },
  "language_info": {
   "codemirror_mode": {
    "name": "ipython",
    "version": 3
   },
   "file_extension": ".py",
   "mimetype": "text/x-python",
   "name": "python",
   "nbconvert_exporter": "python",
   "pygments_lexer": "ipython3",
   "version": "3.6.3"
  }
 },
 "nbformat": 4,
 "nbformat_minor": 2
}
