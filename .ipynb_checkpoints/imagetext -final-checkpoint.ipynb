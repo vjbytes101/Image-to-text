{
 "cells": [
  {
   "cell_type": "code",
   "execution_count": 18,
   "metadata": {
    "collapsed": true
   },
   "outputs": [],
   "source": [
    "import numpy as np\n",
    "from matplotlib import pyplot as plt\n",
    "from PIL import Image, ImageEnhance, ImageFilter\n",
    "import cv2\n",
    "import os  \n",
    "import pytesseract\n",
    "import scipy\n",
    "from scipy import ndimage"
   ]
  },
  {
   "cell_type": "code",
   "execution_count": 22,
   "metadata": {},
   "outputs": [],
   "source": [
    "img_path='C:/Users/Vijay/Isaac/image/'\n",
    "com_file = os.listdir(img_path)\n",
    "left_top = []\n",
    "left_bottom = []\n",
    "right_bottom = []\n",
    "right_top = []\n",
    "for fl in com_file:\n",
    "    path = os.path.join(img_path,fl)\n",
    "    img = plt.imread(path)\n",
    "    x_s =img.shape[1] \n",
    "    y_s=img.shape[0]\n",
    "    w, h = (int)(x_s/5), (int)(y_s/9);\n",
    "    l_t = img[:h,:w]\n",
    "    left_top.append(l_t)\n",
    "    l_b = img[y_s-h:,:w]\n",
    "    left_bottom.append(l_b)\n",
    "    w_r, h_r = (int)(x_s/5.15), (int)(y_s/9);\n",
    "    r_b = img[y_s-(h_r-5):,x_s-(w_r-19):]\n",
    "    right_bottom.append(r_b)\n",
    "    r_t = img[:h_r,x_s-w_r:]\n",
    "    right_top.append(r_t)"
   ]
  },
  {
   "cell_type": "code",
   "execution_count": 23,
   "metadata": {},
   "outputs": [],
   "source": [
    "def temp_val(area_meantemp):\n",
    "    # Denoising\n",
    "    dst = cv2.fastNlMeansDenoisingColored(area_meantemp,None,10,10,7,21)\n",
    "    b,g,r = cv2.split(dst)           # get b,g,r\n",
    "    rgb_dst = cv2.merge([r,g,b])     # switch it to rgb\n",
    "    scipy.misc.imsave('temp2.jpg', rgb_dst)\n",
    "    text = pytesseract.image_to_string(Image.open('temp2.jpg'))\n",
    "    return text[:2]"
   ]
  },
  {
   "cell_type": "code",
   "execution_count": 24,
   "metadata": {},
   "outputs": [
    {
     "name": "stdout",
     "output_type": "stream",
     "text": [
      "Mean Temperature value is:  ['35', '°r', '°r']\n",
      "High Temperature value is:  ['35', '90', '90']\n",
      "Low Temperature value is:  ['23', '73', '73']\n"
     ]
    }
   ],
   "source": [
    "mean_temp_val = []\n",
    "high_temp_val = []\n",
    "low_temp_val = []\n",
    "for i in range(len(right_top)):\n",
    "    mean_temp_val.append(temp_val(left_top[i]))\n",
    "    high_temp_val.append(temp_val(right_top[i]))\n",
    "    low_temp_val.append(temp_val(right_bottom[i]))\n",
    "\n",
    "print(\"Mean Temperature value is: \",mean_temp_val)\n",
    "print(\"High Temperature value is: \",high_temp_val)\n",
    "print(\"Low Temperature value is: \",low_temp_val)"
   ]
  },
  {
   "cell_type": "code",
   "execution_count": null,
   "metadata": {},
   "outputs": [],
   "source": []
  },
  {
   "cell_type": "code",
   "execution_count": null,
   "metadata": {},
   "outputs": [],
   "source": []
  },
  {
   "cell_type": "code",
   "execution_count": 8,
   "metadata": {
    "collapsed": true
   },
   "outputs": [],
   "source": []
  },
  {
   "cell_type": "code",
   "execution_count": 9,
   "metadata": {
    "collapsed": true
   },
   "outputs": [],
   "source": []
  },
  {
   "cell_type": "code",
   "execution_count": null,
   "metadata": {},
   "outputs": [],
   "source": []
  },
  {
   "cell_type": "code",
   "execution_count": null,
   "metadata": {
    "collapsed": true
   },
   "outputs": [],
   "source": []
  }
 ],
 "metadata": {
  "kernelspec": {
   "display_name": "Python 3",
   "language": "python",
   "name": "python3"
  },
  "language_info": {
   "codemirror_mode": {
    "name": "ipython",
    "version": 3
   },
   "file_extension": ".py",
   "mimetype": "text/x-python",
   "name": "python",
   "nbconvert_exporter": "python",
   "pygments_lexer": "ipython3",
   "version": "3.6.3"
  }
 },
 "nbformat": 4,
 "nbformat_minor": 2
}
