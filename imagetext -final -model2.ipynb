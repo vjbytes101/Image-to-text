{
 "cells": [
  {
   "cell_type": "code",
   "execution_count": 103,
   "metadata": {},
   "outputs": [],
   "source": [
    "import numpy as np\n",
    "import pandas as pd\n",
    "from matplotlib import pyplot as plt\n",
    "from PIL import Image, ImageEnhance, ImageFilter\n",
    "import cv2\n",
    "import os  \n",
    "import pytesseract\n",
    "import scipy\n",
    "from scipy import ndimage"
   ]
  },
  {
   "cell_type": "code",
   "execution_count": 123,
   "metadata": {},
   "outputs": [],
   "source": [
    "img_path='C:/Users/Vijay/Isaac/image/'\n",
    "com_file = os.listdir(img_path)\n",
    "left_top = {}\n",
    "left_bottom = {}\n",
    "right_bottom = {}\n",
    "right_top = {}\n",
    "\n",
    "for fl in com_file:\n",
    "    path_img = os.path.join(img_path,fl)\n",
    "    img_f = os.listdir(path_img)\n",
    "    count = 1\n",
    "    for f_new in img_f:\n",
    "        path = os.path.join(path_img,f_new)\n",
    "        img = plt.imread(path)\n",
    "        x_s =img.shape[1] \n",
    "        y_s=img.shape[0]\n",
    "        w, h = (int)(x_s/5), (int)(y_s/9);\n",
    "        l_t = img[:h,:w]\n",
    "        #left_top.append(l_t)\n",
    "        left_top[fl+ '_' + str(count)] = l_t\n",
    "        w, h = (int)(x_s/5), (int)(y_s/9);\n",
    "        l_b = img[y_s-h:,:w]\n",
    "        #left_bottom.append(l_b)\n",
    "        left_bottom[fl+ '_' + str(count)] = l_b\n",
    "        w_r, h_r = (int)(x_s/5.17), (int)(y_s/9);\n",
    "        r_b = img[y_s-(h_r-5):,x_s-(w_r-19):]\n",
    "        #right_bottom.append(r_b)\n",
    "        right_bottom[fl+ '_' + str(count)] = r_b\n",
    "        w_r, h_r = (int)(x_s/5), (int)(y_s/9);\n",
    "        r_t = img[:h_r,x_s-w_r:]\n",
    "        #right_top.append(r_t)\n",
    "        right_top[fl+ '_' + str(count)] = r_t\n",
    "        count = count +1\n",
    "        \n"
   ]
  },
  {
   "cell_type": "code",
   "execution_count": 124,
   "metadata": {
    "collapsed": true
   },
   "outputs": [],
   "source": [
    "def temp_val(area_meantemp):\n",
    "    # Denoising\n",
    "    dst = cv2.fastNlMeansDenoisingColored(area_meantemp,None,10,10,7,21)\n",
    "    b,g,r = cv2.split(dst)           # get b,g,r\n",
    "    rgb_dst = cv2.merge([r,g,b])     # switch it to rgb\n",
    "    scipy.misc.imsave('temp2.jpg', rgb_dst)\n",
    "    text = pytesseract.image_to_string(Image.open('temp2.jpg'))\n",
    "    return text[:2]"
   ]
  },
  {
   "cell_type": "code",
   "execution_count": 125,
   "metadata": {},
   "outputs": [],
   "source": [
    "mean_temp_val = []\n",
    "high_temp_val = []\n",
    "low_temp_val = []\n",
    "df = pd.DataFrame(columns=['Person','Mean_Temp','High_Temp','Low_Temp'])\n",
    "#for i in range(len(left_top)):\n",
    "#    mean_temp_val.append(temp_val(left_top[i]))\n",
    "    #high_temp_val.append(temp_val(right_top[i]))\n",
    "    #low_temp_val.append(temp_val(right_bottom[i]))\n",
    "\n",
    "#print(\"Mean Temperature value is: \",temp_val(left_top['img2_2']))\n",
    "#print(\"High Temperature value is: \",high_temp_val)\n",
    "#print(\"Low Temperature value is: \",low_temp_val)\n",
    "df = df.fillna(0)"
   ]
  },
  {
   "cell_type": "code",
   "execution_count": 126,
   "metadata": {},
   "outputs": [],
   "source": [
    "for key in left_top:\n",
    "    #print(temp_val(left_top[key]))\n",
    "    df = df.append({'Person':key,'Mean_Temp': temp_val(left_top[key]),'High_Temp': temp_val(right_top[key]),'Low_Temp': temp_val(right_bottom[key])}, ignore_index=True)"
   ]
  },
  {
   "cell_type": "code",
   "execution_count": 127,
   "metadata": {},
   "outputs": [
    {
     "data": {
      "text/html": [
       "<div>\n",
       "<style>\n",
       "    .dataframe thead tr:only-child th {\n",
       "        text-align: right;\n",
       "    }\n",
       "\n",
       "    .dataframe thead th {\n",
       "        text-align: left;\n",
       "    }\n",
       "\n",
       "    .dataframe tbody tr th {\n",
       "        vertical-align: top;\n",
       "    }\n",
       "</style>\n",
       "<table border=\"1\" class=\"dataframe\">\n",
       "  <thead>\n",
       "    <tr style=\"text-align: right;\">\n",
       "      <th></th>\n",
       "      <th>Person</th>\n",
       "      <th>Mean_Temp</th>\n",
       "      <th>High_Temp</th>\n",
       "      <th>Low_Temp</th>\n",
       "    </tr>\n",
       "  </thead>\n",
       "  <tbody>\n",
       "    <tr>\n",
       "      <th>0</th>\n",
       "      <td>img1_1</td>\n",
       "      <td></td>\n",
       "      <td>80</td>\n",
       "      <td>73</td>\n",
       "    </tr>\n",
       "    <tr>\n",
       "      <th>1</th>\n",
       "      <td>img2_1</td>\n",
       "      <td></td>\n",
       "      <td>80</td>\n",
       "      <td>73</td>\n",
       "    </tr>\n",
       "    <tr>\n",
       "      <th>2</th>\n",
       "      <td>img2_2</td>\n",
       "      <td>35</td>\n",
       "      <td>35</td>\n",
       "      <td>23</td>\n",
       "    </tr>\n",
       "    <tr>\n",
       "      <th>3</th>\n",
       "      <td>img2_3</td>\n",
       "      <td>°r</td>\n",
       "      <td>90</td>\n",
       "      <td>_7</td>\n",
       "    </tr>\n",
       "  </tbody>\n",
       "</table>\n",
       "</div>"
      ],
      "text/plain": [
       "   Person Mean_Temp High_Temp Low_Temp\n",
       "0  img1_1                  80       73\n",
       "1  img2_1                  80       73\n",
       "2  img2_2        35        35       23\n",
       "3  img2_3        °r        90       _7"
      ]
     },
     "execution_count": 127,
     "metadata": {},
     "output_type": "execute_result"
    }
   ],
   "source": [
    "df"
   ]
  },
  {
   "cell_type": "code",
   "execution_count": 131,
   "metadata": {
    "collapsed": true
   },
   "outputs": [],
   "source": [
    "df.to_csv('Temp.csv', sep=',', encoding='utf-8',index=False)"
   ]
  },
  {
   "cell_type": "code",
   "execution_count": 9,
   "metadata": {
    "collapsed": true
   },
   "outputs": [],
   "source": []
  },
  {
   "cell_type": "code",
   "execution_count": null,
   "metadata": {
    "collapsed": true
   },
   "outputs": [],
   "source": []
  },
  {
   "cell_type": "code",
   "execution_count": null,
   "metadata": {
    "collapsed": true
   },
   "outputs": [],
   "source": []
  }
 ],
 "metadata": {
  "kernelspec": {
   "display_name": "Python 3",
   "language": "python",
   "name": "python3"
  },
  "language_info": {
   "codemirror_mode": {
    "name": "ipython",
    "version": 3
   },
   "file_extension": ".py",
   "mimetype": "text/x-python",
   "name": "python",
   "nbconvert_exporter": "python",
   "pygments_lexer": "ipython3",
   "version": "3.6.3"
  }
 },
 "nbformat": 4,
 "nbformat_minor": 2
}
